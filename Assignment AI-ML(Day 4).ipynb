{
 "cells": [
  {
   "cell_type": "markdown",
   "metadata": {},
   "source": [
    "# Assignment-AI-ML\n"
   ]
  },
  {
   "cell_type": "markdown",
   "metadata": {},
   "source": [
    "# Question 1 :"
   ]
  },
  {
   "cell_type": "raw",
   "metadata": {},
   "source": [
    "Research on whether addition, subtraction, multiplication, division, floor division and modulo\n",
    "operations be performed on complex numbers. Based on your study, implement a Python\n",
    "program to demonstrate these operations"
   ]
  },
  {
   "cell_type": "code",
   "execution_count": 31,
   "metadata": {},
   "outputs": [
    {
     "name": "stdout",
     "output_type": "stream",
     "text": [
      "addition is :  (3+5j)\n",
      "Subtraction is :  (1+1j)\n",
      "multiplication is :  (-4+7j)\n",
      "division is :  (1.6-0.2j)\n"
     ]
    }
   ],
   "source": [
    "def addComplex( z1, z2): \n",
    "    return z1+z2 \n",
    "  \n",
    "# driver program \n",
    "z1 = complex(2, 3) \n",
    "z2 = complex(1, 2) \n",
    "print( \"addition is : \", addComplex(z1, z2)) \n",
    "\n",
    "\n",
    "def subComplex( z1, z2): \n",
    "    return z1-z2 \n",
    "  \n",
    "# driver program \n",
    "z1 = complex(2, 3) \n",
    "z2 = complex(1, 2) \n",
    "print( \"Subtraction is : \", subComplex(z1, z2))\n",
    "\n",
    "\n",
    "def mulComplex( z1, z2): \n",
    "    return z1*z2 \n",
    "  \n",
    "# driver program \n",
    "z1 = complex(2, 3) \n",
    "z2 = complex(1, 2) \n",
    "print( \"multiplication is : \", mulComplex(z1, z2)) \n",
    "\n",
    "\n",
    "def divComplex( z1, z2): \n",
    "    return z1/z2 \n",
    "  \n",
    "# driver program \n",
    "z1 = complex(2, 3) \n",
    "z2 = complex(1, 2) \n",
    "print( \"division is : \", divComplex(z1, z2)) "
   ]
  },
  {
   "cell_type": "raw",
   "metadata": {},
   "source": [
    "ERROR\n",
    "\n",
    "# Modulus Operation\n",
    "def modComplex( z1, z2): \n",
    "    return z1%z2 \n",
    "  \n",
    "z1 = complex(2, 3) \n",
    "z2 = complex(1, 2) \n",
    "print( \"modulu is : \", modComplex(z1, z2)) \n",
    "\n",
    "\n",
    "#Floor Division\n",
    "def floorComplex( z1, z2): \n",
    "    return z1%z2 \n",
    "  \n",
    "z1 = complex(2, 3) \n",
    "z2 = complex(1, 2) \n",
    "print( \"floordivision is : \", floorComplex(z1, z2)) \n",
    "\n"
   ]
  },
  {
   "cell_type": "code",
   "execution_count": 41,
   "metadata": {},
   "outputs": [
    {
     "name": "stdout",
     "output_type": "stream",
     "text": [
      "enter + , - ,* ,/ operator  : p\n",
      "floordivision and modulu operations are not supported OR invalid Operator..\n"
     ]
    }
   ],
   "source": [
    "op = ['+','-','*','/']\n",
    "inputt = input(\"enter + , - ,* ,/ operator  : \")\n",
    "\n",
    "\n",
    "if inputt in op:\n",
    "    if inputt =='+':\n",
    "        #Addition        \n",
    "        def addComplex( z1, z2): \n",
    "            return z1+z2 \n",
    "\n",
    "        z1 = complex(2, 3) \n",
    "        z2 = complex(1, 2) \n",
    "        print( \"addition is : \", addComplex(z1, z2)) \n",
    "\n",
    "    elif  inputt =='-':\n",
    "        #Substraction\n",
    "        def subComplex( z1, z2): \n",
    "            return z1-z2 \n",
    "\n",
    "        z1 = complex(2, 3) \n",
    "        z2 = complex(1, 2) \n",
    "        print( \"Subtraction is : \", subComplex(z1, z2))\n",
    "\n",
    "    elif  inputt =='*':\n",
    "                #Multiplication\n",
    "        def mulComplex( z1, z2): \n",
    "            return z1*z2 \n",
    "\n",
    "        z1 = complex(2, 3) \n",
    "        z2 = complex(1, 2) \n",
    "        print( \"multiplication is : \", mulComplex(z1, z2)) \n",
    "\n",
    "    elif  inputt =='/':\n",
    "        \n",
    "        def divComplex( z1, z2): \n",
    "            return z1/z2 \n",
    "\n",
    "        z1 = complex(2, 3) \n",
    "        z2 = complex(1, 2) \n",
    "        print( \"division is : \", divComplex(z1, z2)) \n",
    "        \n",
    "else:\n",
    "    print(\"floordivision and modulu operations are not supported OR invalid Operator..\")"
   ]
  },
  {
   "cell_type": "markdown",
   "metadata": {},
   "source": [
    "# Question 2 :"
   ]
  },
  {
   "cell_type": "raw",
   "metadata": {},
   "source": [
    "Research on range() functions and its parameters. Create a markdown cell and write in your own\n",
    "words (no copy-paste from google please) what you understand about it. Implement a small\n",
    "program of your choice on the same."
   ]
  },
  {
   "cell_type": "markdown",
   "metadata": {},
   "source": [
    "**range function **\n",
    "\n",
    "range(5): it goes from 0 to generate a sequence of numbers (0,1,2,3,4).....[0 to (n-1)]\n",
    "  \n",
    "range(start,stop,stepsize): default stepsize is 1\n",
    "\n",
    "*range always work with loops --for ,while*\n"
   ]
  },
  {
   "cell_type": "code",
   "execution_count": 29,
   "metadata": {},
   "outputs": [
    {
     "name": "stdout",
     "output_type": "stream",
     "text": [
      "0\n",
      "1\n",
      "2\n",
      "3\n",
      "4\n",
      "1 3 5 7 sum = 10\n",
      "\n",
      "\n",
      "* \n",
      "\n",
      "* * \n",
      "\n",
      "* * * \n",
      "\n",
      "* * * * \n",
      "\n"
     ]
    }
   ],
   "source": [
    "for i in range(5):  #range(5) and range(0,5) \n",
    "    print(i)\n",
    "    \n",
    "    \n",
    "\n",
    "for i in range(1,9,2):\n",
    "    print(i,end=\" \")\n",
    "\n",
    "    \n",
    "    \n",
    "sum=0\n",
    "for i in range(5):\n",
    "    sum = sum +i\n",
    "print(\"sum =\",sum)\n",
    "\n",
    "\n",
    "\n",
    "for i in range(5):\n",
    "    for j in range(i):\n",
    "        print(\"*\",end = \" \")\n",
    "    print(\"\\n\")"
   ]
  },
  {
   "cell_type": "markdown",
   "metadata": {},
   "source": [
    "# Question 3:\n",
    " "
   ]
  },
  {
   "cell_type": "raw",
   "metadata": {},
   "source": [
    "Consider two numbers. Perform their subtraction and if the result of subtraction is greater than\n",
    "25, print their multiplication result else print their division result.\n"
   ]
  },
  {
   "cell_type": "code",
   "execution_count": 25,
   "metadata": {},
   "outputs": [
    {
     "name": "stdout",
     "output_type": "stream",
     "text": [
      "Enter first number :554\n",
      "Enter second number :54\n",
      "29916\n"
     ]
    }
   ],
   "source": [
    "a =int(input(\"Enter first number :\"))\n",
    "b =int(input(\"Enter second number :\"))\n",
    "sub = a- b\n",
    "\n",
    "if sub > 25:\n",
    "    print(a*b)\n",
    "else:\n",
    "    print(a/b)\n",
    "    "
   ]
  },
  {
   "cell_type": "code",
   "execution_count": null,
   "metadata": {},
   "outputs": [],
   "source": []
  },
  {
   "cell_type": "markdown",
   "metadata": {},
   "source": [
    "# Question 4:\n"
   ]
  },
  {
   "cell_type": "raw",
   "metadata": {},
   "source": [
    "Consider a list of 10 elements of integer values. If the number in the list is divisible by 2, print the\n",
    "result as \"square of that number minus 2\"."
   ]
  },
  {
   "cell_type": "code",
   "execution_count": 23,
   "metadata": {},
   "outputs": [
    {
     "name": "stdout",
     "output_type": "stream",
     "text": [
      "enter element 1\n",
      "enter element 5\n",
      "enter element 8\n",
      "enter element 5\n",
      "enter element 6\n",
      "enter element 3\n",
      "enter element 7\n",
      "enter element 9\n",
      "enter element 5\n",
      "enter element 6\n",
      "[1, 5, 8, 5, 6, 3, 7, 9, 5, 6]\n",
      "the number in the list is divisible by 2 [8, 6, 6]\n",
      "square of that number minus 2 [62, 34, 34]\n"
     ]
    }
   ],
   "source": [
    "lst = []\n",
    "even = []    \n",
    "final_list = []\n",
    "for i in range(0,10): \n",
    "    temp = int(input(\"enter element \"))\n",
    "    lst.append(temp)\n",
    "\n",
    "print(lst)\n",
    "\n",
    "for i in lst:\n",
    "    if i%2 == 0:\n",
    "        even.append(i)\n",
    "\n",
    "        \n",
    "print(\"the number in the list is divisible by 2 is : \",even)\n",
    "\n",
    "def sq(a):\n",
    "    return a*a-2\n",
    "    \n",
    "final_list = map(sq,even)\n",
    "print(\"square of that number minus 2 is :\",list(final_list))\n",
    "\n",
    "    "
   ]
  },
  {
   "cell_type": "markdown",
   "metadata": {},
   "source": [
    "# Question 5:\n"
   ]
  },
  {
   "cell_type": "raw",
   "metadata": {},
   "source": [
    "Consider a list of 10 elements. Print all the elements in the list which are greater than 7 when that\n",
    "number is divided 2."
   ]
  },
  {
   "cell_type": "code",
   "execution_count": 24,
   "metadata": {},
   "outputs": [
    {
     "name": "stdout",
     "output_type": "stream",
     "text": [
      "enter element 1\n",
      "enter element 8\n",
      "enter element 4\n",
      "enter element 5\n",
      "enter element 85\n",
      "enter element 74\n",
      "enter element 6\n",
      "enter element 49\n",
      "enter element 49\n",
      "enter element 70\n",
      "[1, 8, 4, 5, 85, 74, 6, 49, 49, 70]\n",
      "the elements in the list which are greater than 7 :  [8, 85, 74, 49, 49, 70]\n",
      "number is divided 2: [4.0, 42.5, 37.0, 24.5, 24.5, 35.0]\n"
     ]
    }
   ],
   "source": [
    "lst = []\n",
    "GthanS = []    \n",
    "final_list = []\n",
    "for i in range(0,10): \n",
    "    temp = int(input(\"enter element \"))\n",
    "    lst.append(temp)\n",
    "\n",
    "print(lst)\n",
    "\n",
    "for i in lst:\n",
    "    if i > 7:\n",
    "        GthanS.append(i)\n",
    "\n",
    "        \n",
    "print(\"the elements in the list which are greater than 7 : \",GthanS)\n",
    "\n",
    "def div(a):\n",
    "    return a/2\n",
    "    \n",
    "final_list = map(div,GthanS)\n",
    "print(\"number is divided 2:\",list(final_list))\n",
    "\n",
    "    "
   ]
  },
  {
   "cell_type": "code",
   "execution_count": null,
   "metadata": {},
   "outputs": [],
   "source": []
  }
 ],
 "metadata": {
  "kernelspec": {
   "display_name": "Python 3",
   "language": "python",
   "name": "python3"
  },
  "language_info": {
   "codemirror_mode": {
    "name": "ipython",
    "version": 3
   },
   "file_extension": ".py",
   "mimetype": "text/x-python",
   "name": "python",
   "nbconvert_exporter": "python",
   "pygments_lexer": "ipython3",
   "version": "3.6.4"
  }
 },
 "nbformat": 4,
 "nbformat_minor": 2
}
