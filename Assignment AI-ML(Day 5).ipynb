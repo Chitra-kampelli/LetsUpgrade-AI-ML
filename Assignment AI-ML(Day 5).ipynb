{
 "cells": [
  {
   "cell_type": "markdown",
   "metadata": {},
   "source": [
    "# Question 1 :\n"
   ]
  },
  {
   "cell_type": "raw",
   "metadata": {},
   "source": [
    "Write a Python program to find the first 20 non-even prime natural numbers.\n"
   ]
  },
  {
   "cell_type": "code",
   "execution_count": 6,
   "metadata": {},
   "outputs": [
    {
     "name": "stdout",
     "output_type": "stream",
     "text": [
      "3\n",
      "5\n",
      "7\n",
      "11\n",
      "13\n",
      "17\n",
      "19\n"
     ]
    }
   ],
   "source": [
    "start = 3\n",
    "end = 20\n",
    "  \n",
    "for val in range(start, end + 1): \n",
    "    if val > 1: \n",
    "        for n in range(2, val//2 + 2): \n",
    "            if (val % n) == 0: \n",
    "                break\n",
    "            else: \n",
    "                if n == val//2 + 1: \n",
    "                    print(val) "
   ]
  },
  {
   "cell_type": "markdown",
   "metadata": {},
   "source": [
    "# Question 2 :\n"
   ]
  },
  {
   "cell_type": "raw",
   "metadata": {},
   "source": [
    "Write a Python program to implement 15 functions of string.\n"
   ]
  },
  {
   "cell_type": "code",
   "execution_count": 2,
   "metadata": {},
   "outputs": [
    {
     "name": "stdout",
     "output_type": "stream",
     "text": [
      "ChitraKampelli\n",
      "1. Converts the first character to upper case :  Name\n",
      "2. Converts string into lower case  :   chitra\n",
      "3. Returns a centered string :        Kampelli      \n",
      "4. Returns the number of times a specified value occurs in a string :  3\n",
      "5. Returns an encoded version of the string :  b'My name is St\\xc3\\xa5le'\n",
      "6. Returns true if the string ends with the specified value :  False\n",
      "7. Sets the tab size of the string  :  C         h         i         t         r         a\n",
      "8. join()  funtion -->Joins the elements of an iterable to the end of the string :  AI#ML#DL\n",
      "9. rsplit()\tSplits the string at the specified separator, and returns a list  ['apple', 'banana', 'cherry']\n",
      "10. rstrip()\tReturns a right trim version of the string \n",
      "of all fruits      banana is my favorite\n",
      "11. split()\tSplits the string at the specified separator, and returns a list\n",
      "['welcome', 'to', 'the', 'jungle']\n",
      "12. splitlines()\tSplits the string at line breaks and returns a list\n",
      "['Thank you for the music', 'Welcome to the jungle']\n",
      "13. swapcase()\tSwaps cases, lower case becomes upper case and vice versa\n",
      "hELLO mY nAME iS chitra\n",
      "14. format()--->Formats specified values in a string \n",
      "For only 49.00 dollars!\n",
      "15.  format_map()\tFormats specified values in a string \n",
      "Chitra is an Engineer and he is 19 years old.\n",
      "Navya is an Doctor and he is 18 years old.\n",
      "16. zfill()\tFills the string with a specified number of 0 values at the beginning\n",
      "0000000050\n"
     ]
    }
   ],
   "source": [
    "s1 = \"Chitra\"\n",
    "s2 = \"Kampelli\"\n",
    "s3 = \"name\"\n",
    "s4 = \"stay home stay safe stay happy\"\n",
    "s5 = \"My name is Ståle\"\n",
    "s6 = \"C\\th\\ti\\tt\\tr\\ta\"\n",
    "s7 = (\"AI\", \"ML\", \"DL\")\n",
    "txt = \"apple, banana, cherry\"\n",
    "print(s1+s2)\n",
    "print(\"1. Converts the first character to upper case : \",s3.capitalize())\n",
    "print(\"2. Converts string into lower case  :  \" , s1.casefold())\n",
    "print(\"3. Returns a centered string : \",s2.center(20))#string.center(length, character)\n",
    "print(\"4. Returns the number of times a specified value occurs in a string : \",s4.count(\"stay\"))#Syntax:string.count(substring, start=…, end=…)\n",
    "print(\"5. Returns an encoded version of the string : \",s5.encode())\n",
    "print(\"6. Returns true if the string ends with the specified value : \",s2.endswith(\"*\"))#Syntax string.endswith(value, start, end)\n",
    "print(\"7. Sets the tab size of the string  : \",s6.expandtabs(10))#Syntax string.expandtabs(tabsize)\n",
    "print(\"8. join()  funtion -->Joins the elements of an iterable to the end of the string : \",\"#\".join(s7))  #string.join(iterable)\n",
    "print(\"9. rsplit()\tSplits the string at the specified separator, and returns a list \",txt.rsplit(\", \"))\n",
    "print(\"10. rstrip()\tReturns a right trim version of the string \",)\n",
    "txt = \"     banana     \"\n",
    "\n",
    "x = txt.rstrip()\n",
    "\n",
    "print(\"of all fruits\", x, \"is my favorite\")\n",
    "\n",
    "print(\"11. split()\tSplits the string at the specified separator, and returns a list\")\n",
    "txt = \"welcome to the jungle\"\n",
    "\n",
    "x = txt.split()\n",
    "\n",
    "print(x)\n",
    "\n",
    "print(\"12. splitlines()\tSplits the string at line breaks and returns a list\")\n",
    "txt = \"Thank you for the music\\nWelcome to the jungle\"\n",
    "\n",
    "x = txt.splitlines()\n",
    "\n",
    "print(x)\n",
    "\n",
    "print(\"13. swapcase()\tSwaps cases, lower case becomes upper case and vice versa\")\n",
    "txt = \"Hello My Name Is CHITRA\"\n",
    "\n",
    "x = txt.swapcase()\n",
    "\n",
    "print(x)\n",
    "\n",
    "\n",
    "\n",
    "print(\"14. format()--->Formats specified values in a string \")\n",
    "txt = \"For only {price:.2f} dollars!\"\n",
    "print(txt.format(price = 49))\n",
    "\n",
    "print(\"15.  format_map()\tFormats specified values in a string \")\n",
    "\n",
    "\n",
    "profession = { 'name':['Chitra', 'Navya'], \n",
    "               'profession':['Engineer', 'Doctor'], \n",
    "               'age':[19, 18] } \n",
    "                       \n",
    "# Use of format_map() function  \n",
    "print('{name[0]} is an {profession[0]} and he'\n",
    "      ' is {age[0]} years old.'.format_map(profession)) \n",
    "        \n",
    "print('{name[1]} is an {profession[1]} and he'\n",
    "      ' is {age[1]} years old.'.format_map(profession)) \n",
    "\n",
    "print(\"16. zfill()\tFills the string with a specified number of 0 values at the beginning\")\n",
    "txt = \"50\"\n",
    "\n",
    "x = txt.zfill(10)\n",
    "\n",
    "print(x)\n"
   ]
  },
  {
   "cell_type": "markdown",
   "metadata": {},
   "source": [
    "# Question 3:\n"
   ]
  },
  {
   "cell_type": "raw",
   "metadata": {},
   "source": [
    "Write a Python program to check if the given string is a Palindrome or Anagram or None of them.\n",
    "Display the message accordingly to the user.\n"
   ]
  },
  {
   "cell_type": "code",
   "execution_count": 3,
   "metadata": {},
   "outputs": [
    {
     "name": "stdout",
     "output_type": "stream",
     "text": [
      "Enter string 1 : silent\n",
      "Enter string 2 : listen\n",
      "The strings are anagrams.\n"
     ]
    }
   ],
   "source": [
    "string1=str(input(\"Enter string 1 : \"))\n",
    "string2=str(input(\"Enter string 2 : \"))\n",
    "if string1 == string1[::-1] :\n",
    "    print(\"Palindrome\")\n",
    "elif (sorted(string1)== sorted(string2)):  \n",
    "     print(\"The strings are anagrams.\")  \n",
    "else:\n",
    "    print(\"None of them \")\n"
   ]
  },
  {
   "cell_type": "markdown",
   "metadata": {},
   "source": [
    "# Question 4:\n"
   ]
  },
  {
   "cell_type": "raw",
   "metadata": {},
   "source": [
    "Write a Python's user defined function that removes all the additional characters from the string\n",
    "and converts it finally to lower case using built-in lower(). eg: If the string is \"Dr. Darshan Ingle\n",
    "@AI-ML Trainer\", then the output be \"drdarshaningleaimltrainer\"."
   ]
  },
  {
   "cell_type": "code",
   "execution_count": 4,
   "metadata": {},
   "outputs": [],
   "source": [
    "def fun():\n",
    "    chars = [';', ':', '!', \"*\",\".\",\",\",\"@\",\"%\",\"-\",\"[\",\"]\",\"{\",\"}\",\"(\",\")\"] \n",
    "\n",
    "    strs=input(\"Enter a string : \")\n",
    "\n",
    "\n",
    "    for i in chars : \n",
    "        strs = strs.replace(i, '') \n",
    "\n",
    "    print (\"Removes all the additional characters from the string : \" + str(strs))     \n",
    "    print(\"Converts it finally to lower case  : \",strs.lower())\n",
    "\n",
    "\n"
   ]
  },
  {
   "cell_type": "code",
   "execution_count": 5,
   "metadata": {},
   "outputs": [
    {
     "name": "stdout",
     "output_type": "stream",
     "text": [
      "Enter a string : Chitrakampelli@gmail.com\n",
      "Removes all the additional characters from the string : Chitrakampelligmailcom\n",
      "Converts it finally to lower case  :  chitrakampelligmailcom\n"
     ]
    }
   ],
   "source": [
    "fun()"
   ]
  },
  {
   "cell_type": "code",
   "execution_count": null,
   "metadata": {},
   "outputs": [],
   "source": []
  },
  {
   "cell_type": "code",
   "execution_count": null,
   "metadata": {},
   "outputs": [],
   "source": []
  },
  {
   "cell_type": "code",
   "execution_count": null,
   "metadata": {},
   "outputs": [],
   "source": []
  }
 ],
 "metadata": {
  "kernelspec": {
   "display_name": "Python 3",
   "language": "python",
   "name": "python3"
  },
  "language_info": {
   "codemirror_mode": {
    "name": "ipython",
    "version": 3
   },
   "file_extension": ".py",
   "mimetype": "text/x-python",
   "name": "python",
   "nbconvert_exporter": "python",
   "pygments_lexer": "ipython3",
   "version": "3.6.4"
  }
 },
 "nbformat": 4,
 "nbformat_minor": 2
}
