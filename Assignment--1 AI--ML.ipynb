{
 "cells": [
  {
   "cell_type": "markdown",
   "metadata": {},
   "source": [
    "# Question 1 :"
   ]
  },
  {
   "cell_type": "raw",
   "metadata": {},
   "source": [
    "Write a program to subtract two complex numbers in Python."
   ]
  },
  {
   "cell_type": "code",
   "execution_count": 2,
   "metadata": {},
   "outputs": [
    {
     "name": "stdout",
     "output_type": "stream",
     "text": [
      "Enter z1 :20\n",
      "Enter z2 :10\n",
      "subtract two complex numbers : (10+0j)\n"
     ]
    }
   ],
   "source": [
    "z1=complex(input(\"Enter z1 :\"))                 #complex() function is used to convert numbers or string into a complex number. \n",
    "                                                  #This method takes two optional parameters and returns a complex number. \n",
    "z2=complex(input(\"Enter z2 :\"))\n",
    "sub=z1-z2\n",
    "print(\"subtraction of two complex numbers :\", sub)\n"
   ]
  },
  {
   "cell_type": "markdown",
   "metadata": {},
   "source": [
    "# Question 2 :"
   ]
  },
  {
   "cell_type": "raw",
   "metadata": {},
   "source": [
    "Write a program to find the fourth root of a number.\n"
   ]
  },
  {
   "cell_type": "code",
   "execution_count": 1,
   "metadata": {},
   "outputs": [
    {
     "name": "stdout",
     "output_type": "stream",
     "text": [
      "Enter n  : 4\n",
      "256\n"
     ]
    }
   ],
   "source": [
    "def fourthroot(num):\n",
    "    print(num**4)\n",
    "\n",
    "num = int(input(\"Enter n  : \"))  \n",
    "fourthroot(num)"
   ]
  },
  {
   "cell_type": "markdown",
   "metadata": {},
   "source": [
    "# Question 3:"
   ]
  },
  {
   "cell_type": "raw",
   "metadata": {},
   "source": [
    "Write a program to swap two numbers in Python with the help of a temporary variable."
   ]
  },
  {
   "cell_type": "code",
   "execution_count": 2,
   "metadata": {},
   "outputs": [
    {
     "name": "stdout",
     "output_type": "stream",
     "text": [
      "Enter two numbers a : 4\n",
      "Enter two numbers b : 5\n",
      "Used temperory variable to swap two numbers  a =  5  b =  4\n"
     ]
    }
   ],
   "source": [
    "def swapfun(a,b):\n",
    "    temp=a\n",
    "    a=b\n",
    "    b=temp\n",
    "    print(\"Used temperory variable to swap two numbers  a = \",a,  \" b = \",b )\n",
    "    \n",
    "a=int(input(\"Enter two numbers a : \"))\n",
    "b=int(input(\"Enter two numbers b : \"))\n",
    "swapfun(a,b)    "
   ]
  },
  {
   "cell_type": "markdown",
   "metadata": {},
   "source": [
    "# Question 4:"
   ]
  },
  {
   "cell_type": "raw",
   "metadata": {},
   "source": [
    "Write a program to swap two numbers in Python without using a temporary variable"
   ]
  },
  {
   "cell_type": "code",
   "execution_count": 3,
   "metadata": {},
   "outputs": [
    {
     "name": "stdout",
     "output_type": "stream",
     "text": [
      "Enter two numbers a : 2\n",
      "Enter two numbers b : 3\n",
      "Without  temperory variable to swap two numbers  a =  3  b =  2\n"
     ]
    }
   ],
   "source": [
    "def swapfun(a,b):\n",
    "    a,b=b,a\n",
    "    print(\"Without  temperory variable to swap two numbers  a = \",a,  \" b = \",b )\n",
    "    \n",
    "a=int(input(\"Enter two numbers a : \"))\n",
    "b=int(input(\"Enter two numbers b : \"))\n",
    "swapfun(a,b)    "
   ]
  },
  {
   "cell_type": "markdown",
   "metadata": {},
   "source": [
    "# Question 5:"
   ]
  },
  {
   "cell_type": "raw",
   "metadata": {},
   "source": [
    "Write a program to convert fahrenheit to kelvin and celsius both."
   ]
  },
  {
   "cell_type": "code",
   "execution_count": null,
   "metadata": {},
   "outputs": [],
   "source": [
    "# Python program to convert temperature from \n"
   ]
  },
  {
   "cell_type": "code",
   "execution_count": 5,
   "metadata": {},
   "outputs": [
    {
     "name": "stdout",
     "output_type": "stream",
     "text": [
      "F = 212\n",
      "Kelvin :  373.15\n"
     ]
    }
   ],
   "source": [
    "# Fahrenheit to Kelvin \n",
    "def fun_F_to_K(F):\n",
    "    print(\"Kelvin : \",(5.0/9.0)*(F - 32.0) + 273.15)\n",
    "F=int(input(\"F = \"))   \n",
    "fun_F_to_K(F)"
   ]
  },
  {
   "cell_type": "code",
   "execution_count": 1,
   "metadata": {},
   "outputs": [
    {
     "name": "stdout",
     "output_type": "stream",
     "text": [
      "F = 212\n",
      "celsius:  100.0\n"
     ]
    }
   ],
   "source": [
    "#Fahrenheit to celsius\n",
    "def fun_F_to_C(F):\n",
    "    print(\"celsius: \",(F - 32)/1.80)\n",
    "F=int(input(\"F = \"))   \n",
    "fun_F_to_C(F)"
   ]
  },
  {
   "cell_type": "code",
   "execution_count": 3,
   "metadata": {},
   "outputs": [
    {
     "name": "stdout",
     "output_type": "stream",
     "text": [
      "c = 100\n",
      "Kelvin =  373\n"
     ]
    }
   ],
   "source": [
    "#celsius to Kelvin \n",
    "def fun_C_to_K(c):\n",
    "    print(\"Kelvin = \", (c + 273))\n",
    "c=int(input(\"c = \"))   \n",
    "fun_C_to_K(c)"
   ]
  },
  {
   "cell_type": "code",
   "execution_count": 5,
   "metadata": {},
   "outputs": [
    {
     "name": "stdout",
     "output_type": "stream",
     "text": [
      "c = 100\n",
      "Fahrenheit =  212.0\n"
     ]
    }
   ],
   "source": [
    "#celsius to  Fahrenheit\n",
    "def fun_C_to_F(c):\n",
    "    print(\"Fahrenheit = \", (9/5*(c) + 32 ))\n",
    "c=int(input(\"c = \"))   \n",
    "fun_C_to_F(c)"
   ]
  },
  {
   "cell_type": "code",
   "execution_count": 6,
   "metadata": {},
   "outputs": [
    {
     "name": "stdout",
     "output_type": "stream",
     "text": [
      "k = 373\n",
      "Fahrenheit =  212.0\n"
     ]
    }
   ],
   "source": [
    "#Kelvin  to  Fahrenheit\n",
    "def fun_K_to_F(k):\n",
    "    print(\"Fahrenheit = \", 9/5*(k - 273) + 32)\n",
    "k=int(input(\"k = \"))   \n",
    "fun_K_to_F(k)"
   ]
  },
  {
   "cell_type": "markdown",
   "metadata": {},
   "source": [
    "# Question 6:"
   ]
  },
  {
   "cell_type": "raw",
   "metadata": {},
   "source": [
    "Write a program to demonstrate all the available data types in Python. Hint: Use type() function."
   ]
  },
  {
   "cell_type": "markdown",
   "metadata": {},
   "source": [
    "Python Data Types\n",
    "\n",
    "> Numeric\n",
    "\n",
    ">>Integers \n",
    "\n",
    "\n",
    ">>Float\n",
    "\n",
    "\n",
    ">>Complex Numbers\n",
    "\n",
    "\n",
    "> Sequence Type\n",
    "\n",
    ">>String\n",
    "\n",
    ">>List\n",
    "\n",
    ">>Tuple\n",
    "\n",
    "> Boolean\n",
    "\n",
    "\n",
    "> Set\n",
    "\n",
    "\n",
    "> Dictionary\n"
   ]
  },
  {
   "cell_type": "code",
   "execution_count": null,
   "metadata": {},
   "outputs": [],
   "source": [
    "#Numeric"
   ]
  },
  {
   "cell_type": "code",
   "execution_count": 8,
   "metadata": {},
   "outputs": [
    {
     "name": "stdout",
     "output_type": "stream",
     "text": [
      "<class 'int'>\n"
     ]
    }
   ],
   "source": [
    "a = 10\n",
    "print(type(a))"
   ]
  },
  {
   "cell_type": "code",
   "execution_count": 9,
   "metadata": {},
   "outputs": [
    {
     "name": "stdout",
     "output_type": "stream",
     "text": [
      "<class 'float'>\n"
     ]
    }
   ],
   "source": [
    "f = 12.3\n",
    "print(type(f))"
   ]
  },
  {
   "cell_type": "code",
   "execution_count": 10,
   "metadata": {},
   "outputs": [
    {
     "name": "stdout",
     "output_type": "stream",
     "text": [
      "<class 'complex'>\n"
     ]
    }
   ],
   "source": [
    "cmp = 4+5j\n",
    "print(type(cmp))"
   ]
  },
  {
   "cell_type": "code",
   "execution_count": null,
   "metadata": {},
   "outputs": [],
   "source": [
    "#Sequence Type"
   ]
  },
  {
   "cell_type": "code",
   "execution_count": 11,
   "metadata": {},
   "outputs": [
    {
     "name": "stdout",
     "output_type": "stream",
     "text": [
      "<class 'str'>\n"
     ]
    }
   ],
   "source": [
    "str = \"Chitra\"\n",
    "print(type(str))"
   ]
  },
  {
   "cell_type": "code",
   "execution_count": 12,
   "metadata": {},
   "outputs": [
    {
     "name": "stdout",
     "output_type": "stream",
     "text": [
      "<class 'list'>\n"
     ]
    }
   ],
   "source": [
    "lst = [1,3,4,5,6]\n",
    "print(type(lst))"
   ]
  },
  {
   "cell_type": "code",
   "execution_count": 13,
   "metadata": {},
   "outputs": [
    {
     "name": "stdout",
     "output_type": "stream",
     "text": [
      "<class 'tuple'>\n"
     ]
    }
   ],
   "source": [
    "tpl = (1,2,3,45,5)\n",
    "print(type(tpl))"
   ]
  },
  {
   "cell_type": "code",
   "execution_count": null,
   "metadata": {},
   "outputs": [],
   "source": [
    "#Boolean"
   ]
  },
  {
   "cell_type": "code",
   "execution_count": 14,
   "metadata": {},
   "outputs": [
    {
     "name": "stdout",
     "output_type": "stream",
     "text": [
      "<class 'bool'>\n"
     ]
    }
   ],
   "source": [
    "print(type(True)) "
   ]
  },
  {
   "cell_type": "code",
   "execution_count": null,
   "metadata": {},
   "outputs": [],
   "source": [
    "#Set"
   ]
  },
  {
   "cell_type": "code",
   "execution_count": 16,
   "metadata": {},
   "outputs": [
    {
     "name": "stdout",
     "output_type": "stream",
     "text": [
      "<class 'set'>\n"
     ]
    }
   ],
   "source": [
    "set1 = set([1,2,3,'etc',3.4,'oh'])\n",
    "print(type(set1)) "
   ]
  },
  {
   "cell_type": "code",
   "execution_count": null,
   "metadata": {},
   "outputs": [],
   "source": [
    "#Dictionary"
   ]
  },
  {
   "cell_type": "code",
   "execution_count": 17,
   "metadata": {},
   "outputs": [
    {
     "name": "stdout",
     "output_type": "stream",
     "text": [
      "Empty Dictionary: \n",
      "{}\n",
      "\n",
      "Dictionary with the use of Integer Keys: \n",
      "{1: 'A', 2: 'B', 3: 'C'}\n",
      "\n",
      "Dictionary with the use of Mixed Keys: \n",
      "{'Name': 'num', 1: [1, 2, 3, 4]}\n",
      "\n",
      "Dictionary with the use of dict(): \n",
      "{1: 'AI', 2: 'ML', 3: 'DL'}\n",
      "\n",
      "Dictionary with each item as a pair: \n",
      "{1: 'AL', 2: 'ML'}\n"
     ]
    }
   ],
   "source": [
    "# Creating an empty Dictionary  \n",
    "Dic = {}  \n",
    "print(\"Empty Dictionary: \")  \n",
    "print(Dic)  \n",
    "    \n",
    "\n",
    "# with Integer Keys  \n",
    "Dict = {1: 'A', 2: 'B', 3: 'C'}  \n",
    "print(\"\\nDictionary with the use of Integer Keys: \")  \n",
    "print(Dict)  \n",
    "    \n",
    " \n",
    " # with Mixed keys  \n",
    "Dict = {'Name': 'num', 1: [1, 2, 3, 4]}  \n",
    "print(\"\\nDictionary with the use of Mixed Keys: \")  \n",
    "print(Dict)  \n",
    "    \n",
    "# with dict() method  \n",
    "Dict = dict({1: 'AI', 2: 'ML', 3:'DL'})  \n",
    "print(\"\\nDictionary with the use of dict(): \")  \n",
    "print(Dict)  \n",
    "    \n",
    "\n",
    "# with each item as a Pair  \n",
    "Dict = dict([(1, 'AL'), (2, 'ML')])  \n",
    "print(\"\\nDictionary with each item as a pair: \")  \n",
    "print(Dict)  "
   ]
  },
  {
   "cell_type": "markdown",
   "metadata": {},
   "source": [
    "# Question 7:"
   ]
  },
  {
   "cell_type": "raw",
   "metadata": {},
   "source": [
    "Create a Markdown cell in jupyter and list the steps discussed in the session by Dr. Darshan\n",
    "Ingle sir to create Github profile and upload Githubs Assignment link."
   ]
  },
  {
   "cell_type": "markdown",
   "metadata": {},
   "source": [
    ">1. Sign up for GitHub at https://github.com/:\n",
    "\n",
    ">2.GitHub is a code hosting platform for collaboration and version control.\n",
    " GitHub lets you (and others) work together on projects.\n",
    " \n",
    ">3.GitHub essentials are:\n",
    "\n",
    ">>Repositories\n",
    "\n",
    ">>Branches\n",
    "\n",
    ">>Commits\n",
    "\n",
    ">>Pull Requests\n",
    "\n",
    "\n",
    ">>Git (the version control software GitHub is built on)\n",
    " \n",
    ">4.Create a new repository ,\n",
    "  name Repository as LetsUpgrade-AI-ML,\n",
    "  Description as Assignment and create repository.\n",
    " \n",
    ">5.folder of LetsUpgrade-AI-ML is created\n",
    "\n",
    ">6.Click on uploading an existing file and upload files to your repository.\n",
    "and click on commit changes.\n",
    " "
   ]
  },
  {
   "cell_type": "code",
   "execution_count": null,
   "metadata": {},
   "outputs": [],
   "source": []
  }
 ],
 "metadata": {
  "kernelspec": {
   "display_name": "Python 3",
   "language": "python",
   "name": "python3"
  },
  "language_info": {
   "codemirror_mode": {
    "name": "ipython",
    "version": 3
   },
   "file_extension": ".py",
   "mimetype": "text/x-python",
   "name": "python",
   "nbconvert_exporter": "python",
   "pygments_lexer": "ipython3",
   "version": "3.6.4"
  }
 },
 "nbformat": 4,
 "nbformat_minor": 2
}
