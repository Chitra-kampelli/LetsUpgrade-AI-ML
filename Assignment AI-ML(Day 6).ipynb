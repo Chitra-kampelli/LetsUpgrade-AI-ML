{
 "cells": [
  {
   "cell_type": "markdown",
   "metadata": {},
   "source": [
    "# Question 1:"
   ]
  },
  {
   "cell_type": "raw",
   "metadata": {},
   "source": [
    "Assuming that we have some email addresses in the \"username@companyname.com\" format, please write program\n",
    "to print the company name of a given email address. Both user names and company names are composed of letters\n",
    "only.\n",
    "\n",
    "Input Format:\n",
    "The first line of the input contains an email address.\n",
    "Output Format:\n",
    "Print the company name in single line.\n",
    "Example;\n",
    "\n",
    "Input:\n",
    "john@google.com\n",
    "Output:\n",
    "google\n"
   ]
  },
  {
   "cell_type": "code",
   "execution_count": 3,
   "metadata": {},
   "outputs": [],
   "source": [
    "def emailweb():\n",
    "    emailwebsite=input(\"Enter an Email Id : \")\n",
    "    lst=emailwebsite.split('@')\n",
    "    lst2=lst[1]\n",
    "    t=lst2.split('.')\n",
    "    print(\"The Company name of a given Email Address  : \",t[0])\n"
   ]
  },
  {
   "cell_type": "code",
   "execution_count": 4,
   "metadata": {},
   "outputs": [
    {
     "name": "stdout",
     "output_type": "stream",
     "text": [
      "Enter an Email Id : kampelli@Chitra.com\n",
      "The Company name of a given Email Address  :  Chitra\n"
     ]
    }
   ],
   "source": [
    "emailweb()"
   ]
  },
  {
   "cell_type": "code",
   "execution_count": null,
   "metadata": {},
   "outputs": [],
   "source": [
    "Outputs:\n",
    "1.    \n",
    "Enter an Email Id : username@companyname.com\n",
    "The Company name of a given Email Address  :  companyname\n",
    "    \n",
    "2.    \n",
    "Enter an Email Id : kampelli@Chitra.com\n",
    "The Company name of a given Email Address  :  Chitra"
   ]
  },
  {
   "cell_type": "markdown",
   "metadata": {},
   "source": [
    "# Question 2:"
   ]
  },
  {
   "cell_type": "raw",
   "metadata": {},
   "source": [
    "Write a program that accepts a comma-separated sequence of words as input and prints the words in a comma\n",
    "separated sequence after sorting them alphabetically.\n",
    "\n",
    "Input Format:\n",
    "The first line of input contains words separated by the comma.\n",
    "Output Format:\n",
    "Print the sorted words separated by the comma.\n",
    "\n",
    "Example:\n",
    "Input:\n",
    "without,hello,bag,world\n",
    "Output:\n",
    "bag,hello,without,world"
   ]
  },
  {
   "cell_type": "code",
   "execution_count": 5,
   "metadata": {},
   "outputs": [
    {
     "name": "stdout",
     "output_type": "stream",
     "text": [
      "Input comma separated sequence of words : banana,apple,kite,ball\n",
      "apple,ball,banana,kite\n"
     ]
    }
   ],
   "source": [
    "items = input(\"Input comma separated sequence of words : \")\n",
    "words = [word for word in items.split(\",\")]\n",
    "print(\",\".join(sorted(list(set(words)))))"
   ]
  },
  {
   "cell_type": "code",
   "execution_count": null,
   "metadata": {},
   "outputs": [],
   "source": [
    "Outputs:\n",
    "1.\n",
    "Input comma separated sequence of words : without,hello,bag,world\n",
    "bag,hello,without,world\n",
    "\n",
    "2.\n",
    "Input comma separated sequence of words : banana,apple,kite,ball\n",
    "apple,ball,banana,kite"
   ]
  },
  {
   "cell_type": "markdown",
   "metadata": {},
   "source": [
    "# Question 3:\n"
   ]
  },
  {
   "cell_type": "raw",
   "metadata": {},
   "source": [
    "Create your own Jupyter Notebook for Sets.\n",
    "Reference link: https://www.w3schools.com/python/python_sets.asp\n"
   ]
  },
  {
   "cell_type": "code",
   "execution_count": null,
   "metadata": {},
   "outputs": [],
   "source": [
    "Python Sets (NoteBook)"
   ]
  },
  {
   "cell_type": "markdown",
   "metadata": {},
   "source": [
    "# Question 4:\n"
   ]
  },
  {
   "cell_type": "raw",
   "metadata": {},
   "source": [
    "Given a list of n-1 numbers ranging from 1 to n, your task is to find the missing number. There are no duplicates.\n",
    "\n",
    "Input Format:\n",
    "The first line contains n-1 numbers with each number separated by a space.\n",
    "Output Format:\n",
    "Print the missing number\n",
    "\n",
    "Example:\n",
    "Input:1 2 4 6 3 7 8\n",
    "Output:5\n",
    "Explanation:\n",
    "In the above list of numbers 5 is missing and hence 5 is the input"
   ]
  },
  {
   "cell_type": "code",
   "execution_count": 6,
   "metadata": {},
   "outputs": [
    {
     "name": "stdout",
     "output_type": "stream",
     "text": [
      "Enter number of elements : 5\n",
      "1\n",
      "2\n",
      "3\n",
      "5\n",
      "6\n",
      "[1, 2, 3, 5, 6]\n",
      "the missing number is  4\n"
     ]
    }
   ],
   "source": [
    "# input from the user\n",
    "lst = [] \n",
    "n = int(input(\"Enter number of elements : \")) \n",
    "\n",
    "for i in range(0, n): \n",
    "    inp = int(input()) \n",
    "  \n",
    "    lst.append(inp)\n",
    "      \n",
    "print(lst) \n",
    "\n",
    "def findMissingNo(lst): \n",
    "    n = len(lst) \n",
    "    total = (n + 1)*(n + 2)//2\n",
    "    sum_of_lst = sum(lst) \n",
    "    return total - sum_of_lst\n",
    "\n",
    "miss = findMissingNo(lst) \n",
    "print(\"the missing number is \",miss)     "
   ]
  },
  {
   "cell_type": "code",
   "execution_count": null,
   "metadata": {},
   "outputs": [],
   "source": [
    "Output:\n",
    "1.    \n",
    "Enter number of elements : 5\n",
    "1\n",
    "2\n",
    "4\n",
    "5\n",
    "6\n",
    "[1, 2, 4, 5, 6]\n",
    "3\n",
    "\n",
    "2.\n",
    "Enter number of elements : 5\n",
    "1\n",
    "2\n",
    "3\n",
    "5\n",
    "6\n",
    "[1, 2, 3, 5, 6]\n",
    "the missing number is  4"
   ]
  },
  {
   "cell_type": "markdown",
   "metadata": {},
   "source": [
    "# Question 5:"
   ]
  },
  {
   "cell_type": "raw",
   "metadata": {},
   "source": [
    "With a given list L, write a program to print this list L after removing all duplicate values with original order reserved.\n",
    "\n",
    "Example:\n",
    "If the input list is\n",
    "12 24 35 24 88 120 155 88 120 155\n",
    "Then the output should be\n",
    "12 24 35 88 120 155\n",
    "\n",
    "Explanation:\n",
    "Third, seventh and ninth element of the list L has been removed because it was already present.\n",
    "Input Format:\n",
    "In one line take the elements of the list L with each element separated by a space.\n",
    "Output Format:\n",
    "Print the elements of the modified list in one line with each element separated by a space.\n",
    "Example:\n",
    "\n",
    "Input: 12 24 35 24\n",
    "Output:\n",
    "12 24 35                                     print(array[i], end=\" \")"
   ]
  },
  {
   "cell_type": "code",
   "execution_count": 14,
   "metadata": {},
   "outputs": [
    {
     "name": "stdout",
     "output_type": "stream",
     "text": [
      "Enter number of elements : 6\n",
      "1\n",
      "2\n",
      "3\n",
      "8\n",
      "8\n",
      "3\n",
      "[1, 2, 3, 8, 8, 3]\n",
      "[1, 2, 3, 8]\n"
     ]
    }
   ],
   "source": [
    "def Remove(lst): \n",
    "    final_list = [] \n",
    "    for num in lst: \n",
    "        if num not in final_list: \n",
    "            final_list.append(num) \n",
    "    return final_list \n",
    "       \n",
    "lst = [] \n",
    "n = int(input(\"Enter number of elements : \")) \n",
    "\n",
    "for i in range(0, n): \n",
    "    inp = int(input()) \n",
    "  \n",
    "    lst.append(inp)\n",
    "      \n",
    "print(lst)  \n",
    "print(Remove(lst)) "
   ]
  },
  {
   "cell_type": "code",
   "execution_count": null,
   "metadata": {},
   "outputs": [],
   "source": [
    "output:\n",
    "1.    \n",
    "Enter number of elements : 6\n",
    "1\n",
    "2\n",
    "3\n",
    "1\n",
    "3\n",
    "2\n",
    "[1, 2, 3, 1, 3, 2]\n",
    "[1, 2, 3]\n",
    "\n",
    "2.\n",
    "Enter number of elements : 6\n",
    "1\n",
    "2\n",
    "3\n",
    "8\n",
    "8\n",
    "3\n",
    "[1, 2, 3, 8, 8, 3]\n",
    "[1, 2, 3, 8]\n",
    "1.\n",
    "output:"
   ]
  }
 ],
 "metadata": {
  "kernelspec": {
   "display_name": "Python 3",
   "language": "python",
   "name": "python3"
  },
  "language_info": {
   "codemirror_mode": {
    "name": "ipython",
    "version": 3
   },
   "file_extension": ".py",
   "mimetype": "text/x-python",
   "name": "python",
   "nbconvert_exporter": "python",
   "pygments_lexer": "ipython3",
   "version": "3.6.10"
  }
 },
 "nbformat": 4,
 "nbformat_minor": 2
}
